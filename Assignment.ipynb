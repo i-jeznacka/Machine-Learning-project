{
  "nbformat": 4,
  "nbformat_minor": 0,
  "metadata": {
    "colab": {
      "provenance": []
    },
    "kernelspec": {
      "name": "python3",
      "display_name": "Python 3"
    },
    "language_info": {
      "name": "python"
    }
  },
  "cells": [
    {
      "cell_type": "markdown",
      "source": [
        "# **Second lab assignment WUM**\n",
        "\n",
        "Author: Iga Jeznacka\n",
        "\n",
        "---"
      ],
      "metadata": {
        "id": "5RUYAk3korKL"
      }
    },
    {
      "cell_type": "markdown",
      "source": [
        "## 1. Building baseline models"
      ],
      "metadata": {
        "id": "Vpv5K8NlpFSI"
      }
    },
    {
      "cell_type": "markdown",
      "source": [
        "### Loading the data and importing Python libraries"
      ],
      "metadata": {
        "id": "diZNVg1DpoWo"
      }
    },
    {
      "cell_type": "code",
      "execution_count": null,
      "metadata": {
        "colab": {
          "base_uri": "https://localhost:8080/"
        },
        "id": "mrPcv0GPof_1",
        "outputId": "97b49c4f-73e2-4981-85f9-8b331ba3a9f2"
      },
      "outputs": [
        {
          "output_type": "stream",
          "name": "stdout",
          "text": [
            "Requirement already satisfied: gdown in /usr/local/lib/python3.11/dist-packages (5.2.0)\n",
            "Requirement already satisfied: beautifulsoup4 in /usr/local/lib/python3.11/dist-packages (from gdown) (4.13.4)\n",
            "Requirement already satisfied: filelock in /usr/local/lib/python3.11/dist-packages (from gdown) (3.18.0)\n",
            "Requirement already satisfied: requests[socks] in /usr/local/lib/python3.11/dist-packages (from gdown) (2.32.3)\n",
            "Requirement already satisfied: tqdm in /usr/local/lib/python3.11/dist-packages (from gdown) (4.67.1)\n",
            "Requirement already satisfied: soupsieve>1.2 in /usr/local/lib/python3.11/dist-packages (from beautifulsoup4->gdown) (2.7)\n",
            "Requirement already satisfied: typing-extensions>=4.0.0 in /usr/local/lib/python3.11/dist-packages (from beautifulsoup4->gdown) (4.13.2)\n",
            "Requirement already satisfied: charset-normalizer<4,>=2 in /usr/local/lib/python3.11/dist-packages (from requests[socks]->gdown) (3.4.2)\n",
            "Requirement already satisfied: idna<4,>=2.5 in /usr/local/lib/python3.11/dist-packages (from requests[socks]->gdown) (3.10)\n",
            "Requirement already satisfied: urllib3<3,>=1.21.1 in /usr/local/lib/python3.11/dist-packages (from requests[socks]->gdown) (2.4.0)\n",
            "Requirement already satisfied: certifi>=2017.4.17 in /usr/local/lib/python3.11/dist-packages (from requests[socks]->gdown) (2025.4.26)\n",
            "Requirement already satisfied: PySocks!=1.5.7,>=1.5.6 in /usr/local/lib/python3.11/dist-packages (from requests[socks]->gdown) (1.7.1)\n",
            "Requirement already satisfied: gdown in /usr/local/lib/python3.11/dist-packages (5.2.0)\n",
            "Requirement already satisfied: beautifulsoup4 in /usr/local/lib/python3.11/dist-packages (from gdown) (4.13.4)\n",
            "Requirement already satisfied: filelock in /usr/local/lib/python3.11/dist-packages (from gdown) (3.18.0)\n",
            "Requirement already satisfied: requests[socks] in /usr/local/lib/python3.11/dist-packages (from gdown) (2.32.3)\n",
            "Requirement already satisfied: tqdm in /usr/local/lib/python3.11/dist-packages (from gdown) (4.67.1)\n",
            "Requirement already satisfied: soupsieve>1.2 in /usr/local/lib/python3.11/dist-packages (from beautifulsoup4->gdown) (2.7)\n",
            "Requirement already satisfied: typing-extensions>=4.0.0 in /usr/local/lib/python3.11/dist-packages (from beautifulsoup4->gdown) (4.13.2)\n",
            "Requirement already satisfied: charset-normalizer<4,>=2 in /usr/local/lib/python3.11/dist-packages (from requests[socks]->gdown) (3.4.2)\n",
            "Requirement already satisfied: idna<4,>=2.5 in /usr/local/lib/python3.11/dist-packages (from requests[socks]->gdown) (3.10)\n",
            "Requirement already satisfied: urllib3<3,>=1.21.1 in /usr/local/lib/python3.11/dist-packages (from requests[socks]->gdown) (2.4.0)\n",
            "Requirement already satisfied: certifi>=2017.4.17 in /usr/local/lib/python3.11/dist-packages (from requests[socks]->gdown) (2025.4.26)\n",
            "Requirement already satisfied: PySocks!=1.5.7,>=1.5.6 in /usr/local/lib/python3.11/dist-packages (from requests[socks]->gdown) (1.7.1)\n",
            "Downloading...\n",
            "From: https://drive.google.com/uc?id=19giFsIxPewmQUtsgynr8nuAQRPDVZTEF\n",
            "To: /content/zad2_wum_data_for_students.csv\n",
            "100% 14.6M/14.6M [00:00<00:00, 91.4MB/s]\n"
          ]
        }
      ],
      "source": [
        "!pip install gdown\n",
        "!pip install --upgrade gdown\n",
        "!gdown https://drive.google.com/uc?id=19giFsIxPewmQUtsgynr8nuAQRPDVZTEF"
      ]
    },
    {
      "cell_type": "code",
      "source": [
        "# Import libraries\n",
        "import pandas as pd\n",
        "import math\n",
        "from sklearn.model_selection import train_test_split\n",
        "import statsmodels.api as sm\n",
        "from sklearn.metrics import r2_score, root_mean_squared_error, confusion_matrix, accuracy_score\n",
        "from sklearn.linear_model import LogisticRegression"
      ],
      "metadata": {
        "id": "RcNkeFQKqK0s"
      },
      "execution_count": null,
      "outputs": []
    },
    {
      "cell_type": "code",
      "source": [
        "# Load and inspect database\n",
        "data = pd.read_csv('zad2_wum_data_for_students.csv', sep=';', header=0)\n",
        "print('Output')\n",
        "print(data['Output'].describe())\n",
        "print(data['Class'].value_counts())\n",
        "data.head()"
      ],
      "metadata": {
        "colab": {
          "base_uri": "https://localhost:8080/",
          "height": 487
        },
        "id": "9oY5O-TVqYA3",
        "outputId": "b1dc122b-787f-4fcd-f274-a82e096f950d"
      },
      "execution_count": null,
      "outputs": [
        {
          "output_type": "stream",
          "name": "stdout",
          "text": [
            "Output\n",
            "count    2000.000000\n",
            "mean        0.106647\n",
            "std         3.562855\n",
            "min       -12.384019\n",
            "25%        -2.310265\n",
            "50%         0.140658\n",
            "75%         2.435991\n",
            "max        11.676146\n",
            "Name: Output, dtype: float64\n",
            "Class\n",
            "1    1013\n",
            "0     987\n",
            "Name: count, dtype: int64\n"
          ]
        },
        {
          "output_type": "execute_result",
          "data": {
            "text/plain": [
              "   Class     Output    Input1    Input2    Input3    Input4    Input5  \\\n",
              "0      0   0.800586 -0.002583  2.184037 -0.322008  1.621241  1.192444   \n",
              "1      0   2.168475  0.668637  1.373933 -0.476868 -0.724704  0.031162   \n",
              "2      1  -1.210777 -0.681438 -0.544753  0.441346 -0.019906 -0.192135   \n",
              "3      1   0.505678 -0.497957  0.720712  0.149120  0.019251  1.377850   \n",
              "4      1 -10.281033 -1.178544  0.176941  1.112202  1.234189  0.999451   \n",
              "\n",
              "     Input6    Input7    Input8  ...  Input391  Input392  Input393  Input394  \\\n",
              "0 -0.278356 -0.207366  0.735689  ... -2.140861  1.187660  0.345238 -0.844885   \n",
              "1 -1.845921  0.784890  1.508526  ... -1.286120 -0.900044 -0.500399 -0.126421   \n",
              "2 -0.162510 -0.998777  0.686472  ... -0.391605 -0.190147  0.793746 -0.812737   \n",
              "3  0.981337 -0.846813  0.036790  ... -0.176734 -0.947351 -0.888601  1.509450   \n",
              "4 -0.773329 -0.811075  1.550537  ... -0.181325  0.198960 -0.697497 -0.836371   \n",
              "\n",
              "   Input395  Input396  Input397  Input398  Input399  Input400  \n",
              "0  0.580007 -2.605781 -0.299471  0.711487 -0.753316  0.728763  \n",
              "1 -0.632233 -2.557419  0.056044  0.634774 -0.259835  0.106390  \n",
              "2 -0.068228 -0.313143  2.564096  0.848355  0.180556 -1.525615  \n",
              "3 -0.501929 -0.554909 -0.104051  0.442150 -0.056644  1.447267  \n",
              "4  1.652071  0.974292  1.584071 -0.202352  1.362426  1.023857  \n",
              "\n",
              "[5 rows x 402 columns]"
            ],
            "text/html": [
              "\n",
              "  <div id=\"df-bf1f969f-8b8c-462e-a082-d20118bbbcf9\" class=\"colab-df-container\">\n",
              "    <div>\n",
              "<style scoped>\n",
              "    .dataframe tbody tr th:only-of-type {\n",
              "        vertical-align: middle;\n",
              "    }\n",
              "\n",
              "    .dataframe tbody tr th {\n",
              "        vertical-align: top;\n",
              "    }\n",
              "\n",
              "    .dataframe thead th {\n",
              "        text-align: right;\n",
              "    }\n",
              "</style>\n",
              "<table border=\"1\" class=\"dataframe\">\n",
              "  <thead>\n",
              "    <tr style=\"text-align: right;\">\n",
              "      <th></th>\n",
              "      <th>Class</th>\n",
              "      <th>Output</th>\n",
              "      <th>Input1</th>\n",
              "      <th>Input2</th>\n",
              "      <th>Input3</th>\n",
              "      <th>Input4</th>\n",
              "      <th>Input5</th>\n",
              "      <th>Input6</th>\n",
              "      <th>Input7</th>\n",
              "      <th>Input8</th>\n",
              "      <th>...</th>\n",
              "      <th>Input391</th>\n",
              "      <th>Input392</th>\n",
              "      <th>Input393</th>\n",
              "      <th>Input394</th>\n",
              "      <th>Input395</th>\n",
              "      <th>Input396</th>\n",
              "      <th>Input397</th>\n",
              "      <th>Input398</th>\n",
              "      <th>Input399</th>\n",
              "      <th>Input400</th>\n",
              "    </tr>\n",
              "  </thead>\n",
              "  <tbody>\n",
              "    <tr>\n",
              "      <th>0</th>\n",
              "      <td>0</td>\n",
              "      <td>0.800586</td>\n",
              "      <td>-0.002583</td>\n",
              "      <td>2.184037</td>\n",
              "      <td>-0.322008</td>\n",
              "      <td>1.621241</td>\n",
              "      <td>1.192444</td>\n",
              "      <td>-0.278356</td>\n",
              "      <td>-0.207366</td>\n",
              "      <td>0.735689</td>\n",
              "      <td>...</td>\n",
              "      <td>-2.140861</td>\n",
              "      <td>1.187660</td>\n",
              "      <td>0.345238</td>\n",
              "      <td>-0.844885</td>\n",
              "      <td>0.580007</td>\n",
              "      <td>-2.605781</td>\n",
              "      <td>-0.299471</td>\n",
              "      <td>0.711487</td>\n",
              "      <td>-0.753316</td>\n",
              "      <td>0.728763</td>\n",
              "    </tr>\n",
              "    <tr>\n",
              "      <th>1</th>\n",
              "      <td>0</td>\n",
              "      <td>2.168475</td>\n",
              "      <td>0.668637</td>\n",
              "      <td>1.373933</td>\n",
              "      <td>-0.476868</td>\n",
              "      <td>-0.724704</td>\n",
              "      <td>0.031162</td>\n",
              "      <td>-1.845921</td>\n",
              "      <td>0.784890</td>\n",
              "      <td>1.508526</td>\n",
              "      <td>...</td>\n",
              "      <td>-1.286120</td>\n",
              "      <td>-0.900044</td>\n",
              "      <td>-0.500399</td>\n",
              "      <td>-0.126421</td>\n",
              "      <td>-0.632233</td>\n",
              "      <td>-2.557419</td>\n",
              "      <td>0.056044</td>\n",
              "      <td>0.634774</td>\n",
              "      <td>-0.259835</td>\n",
              "      <td>0.106390</td>\n",
              "    </tr>\n",
              "    <tr>\n",
              "      <th>2</th>\n",
              "      <td>1</td>\n",
              "      <td>-1.210777</td>\n",
              "      <td>-0.681438</td>\n",
              "      <td>-0.544753</td>\n",
              "      <td>0.441346</td>\n",
              "      <td>-0.019906</td>\n",
              "      <td>-0.192135</td>\n",
              "      <td>-0.162510</td>\n",
              "      <td>-0.998777</td>\n",
              "      <td>0.686472</td>\n",
              "      <td>...</td>\n",
              "      <td>-0.391605</td>\n",
              "      <td>-0.190147</td>\n",
              "      <td>0.793746</td>\n",
              "      <td>-0.812737</td>\n",
              "      <td>-0.068228</td>\n",
              "      <td>-0.313143</td>\n",
              "      <td>2.564096</td>\n",
              "      <td>0.848355</td>\n",
              "      <td>0.180556</td>\n",
              "      <td>-1.525615</td>\n",
              "    </tr>\n",
              "    <tr>\n",
              "      <th>3</th>\n",
              "      <td>1</td>\n",
              "      <td>0.505678</td>\n",
              "      <td>-0.497957</td>\n",
              "      <td>0.720712</td>\n",
              "      <td>0.149120</td>\n",
              "      <td>0.019251</td>\n",
              "      <td>1.377850</td>\n",
              "      <td>0.981337</td>\n",
              "      <td>-0.846813</td>\n",
              "      <td>0.036790</td>\n",
              "      <td>...</td>\n",
              "      <td>-0.176734</td>\n",
              "      <td>-0.947351</td>\n",
              "      <td>-0.888601</td>\n",
              "      <td>1.509450</td>\n",
              "      <td>-0.501929</td>\n",
              "      <td>-0.554909</td>\n",
              "      <td>-0.104051</td>\n",
              "      <td>0.442150</td>\n",
              "      <td>-0.056644</td>\n",
              "      <td>1.447267</td>\n",
              "    </tr>\n",
              "    <tr>\n",
              "      <th>4</th>\n",
              "      <td>1</td>\n",
              "      <td>-10.281033</td>\n",
              "      <td>-1.178544</td>\n",
              "      <td>0.176941</td>\n",
              "      <td>1.112202</td>\n",
              "      <td>1.234189</td>\n",
              "      <td>0.999451</td>\n",
              "      <td>-0.773329</td>\n",
              "      <td>-0.811075</td>\n",
              "      <td>1.550537</td>\n",
              "      <td>...</td>\n",
              "      <td>-0.181325</td>\n",
              "      <td>0.198960</td>\n",
              "      <td>-0.697497</td>\n",
              "      <td>-0.836371</td>\n",
              "      <td>1.652071</td>\n",
              "      <td>0.974292</td>\n",
              "      <td>1.584071</td>\n",
              "      <td>-0.202352</td>\n",
              "      <td>1.362426</td>\n",
              "      <td>1.023857</td>\n",
              "    </tr>\n",
              "  </tbody>\n",
              "</table>\n",
              "<p>5 rows × 402 columns</p>\n",
              "</div>\n",
              "    <div class=\"colab-df-buttons\">\n",
              "\n",
              "  <div class=\"colab-df-container\">\n",
              "    <button class=\"colab-df-convert\" onclick=\"convertToInteractive('df-bf1f969f-8b8c-462e-a082-d20118bbbcf9')\"\n",
              "            title=\"Convert this dataframe to an interactive table.\"\n",
              "            style=\"display:none;\">\n",
              "\n",
              "  <svg xmlns=\"http://www.w3.org/2000/svg\" height=\"24px\" viewBox=\"0 -960 960 960\">\n",
              "    <path d=\"M120-120v-720h720v720H120Zm60-500h600v-160H180v160Zm220 220h160v-160H400v160Zm0 220h160v-160H400v160ZM180-400h160v-160H180v160Zm440 0h160v-160H620v160ZM180-180h160v-160H180v160Zm440 0h160v-160H620v160Z\"/>\n",
              "  </svg>\n",
              "    </button>\n",
              "\n",
              "  <style>\n",
              "    .colab-df-container {\n",
              "      display:flex;\n",
              "      gap: 12px;\n",
              "    }\n",
              "\n",
              "    .colab-df-convert {\n",
              "      background-color: #E8F0FE;\n",
              "      border: none;\n",
              "      border-radius: 50%;\n",
              "      cursor: pointer;\n",
              "      display: none;\n",
              "      fill: #1967D2;\n",
              "      height: 32px;\n",
              "      padding: 0 0 0 0;\n",
              "      width: 32px;\n",
              "    }\n",
              "\n",
              "    .colab-df-convert:hover {\n",
              "      background-color: #E2EBFA;\n",
              "      box-shadow: 0px 1px 2px rgba(60, 64, 67, 0.3), 0px 1px 3px 1px rgba(60, 64, 67, 0.15);\n",
              "      fill: #174EA6;\n",
              "    }\n",
              "\n",
              "    .colab-df-buttons div {\n",
              "      margin-bottom: 4px;\n",
              "    }\n",
              "\n",
              "    [theme=dark] .colab-df-convert {\n",
              "      background-color: #3B4455;\n",
              "      fill: #D2E3FC;\n",
              "    }\n",
              "\n",
              "    [theme=dark] .colab-df-convert:hover {\n",
              "      background-color: #434B5C;\n",
              "      box-shadow: 0px 1px 3px 1px rgba(0, 0, 0, 0.15);\n",
              "      filter: drop-shadow(0px 1px 2px rgba(0, 0, 0, 0.3));\n",
              "      fill: #FFFFFF;\n",
              "    }\n",
              "  </style>\n",
              "\n",
              "    <script>\n",
              "      const buttonEl =\n",
              "        document.querySelector('#df-bf1f969f-8b8c-462e-a082-d20118bbbcf9 button.colab-df-convert');\n",
              "      buttonEl.style.display =\n",
              "        google.colab.kernel.accessAllowed ? 'block' : 'none';\n",
              "\n",
              "      async function convertToInteractive(key) {\n",
              "        const element = document.querySelector('#df-bf1f969f-8b8c-462e-a082-d20118bbbcf9');\n",
              "        const dataTable =\n",
              "          await google.colab.kernel.invokeFunction('convertToInteractive',\n",
              "                                                    [key], {});\n",
              "        if (!dataTable) return;\n",
              "\n",
              "        const docLinkHtml = 'Like what you see? Visit the ' +\n",
              "          '<a target=\"_blank\" href=https://colab.research.google.com/notebooks/data_table.ipynb>data table notebook</a>'\n",
              "          + ' to learn more about interactive tables.';\n",
              "        element.innerHTML = '';\n",
              "        dataTable['output_type'] = 'display_data';\n",
              "        await google.colab.output.renderOutput(dataTable, element);\n",
              "        const docLink = document.createElement('div');\n",
              "        docLink.innerHTML = docLinkHtml;\n",
              "        element.appendChild(docLink);\n",
              "      }\n",
              "    </script>\n",
              "  </div>\n",
              "\n",
              "\n",
              "    <div id=\"df-c067252f-8288-48f2-aefd-9593a19f3d20\">\n",
              "      <button class=\"colab-df-quickchart\" onclick=\"quickchart('df-c067252f-8288-48f2-aefd-9593a19f3d20')\"\n",
              "                title=\"Suggest charts\"\n",
              "                style=\"display:none;\">\n",
              "\n",
              "<svg xmlns=\"http://www.w3.org/2000/svg\" height=\"24px\"viewBox=\"0 0 24 24\"\n",
              "     width=\"24px\">\n",
              "    <g>\n",
              "        <path d=\"M19 3H5c-1.1 0-2 .9-2 2v14c0 1.1.9 2 2 2h14c1.1 0 2-.9 2-2V5c0-1.1-.9-2-2-2zM9 17H7v-7h2v7zm4 0h-2V7h2v10zm4 0h-2v-4h2v4z\"/>\n",
              "    </g>\n",
              "</svg>\n",
              "      </button>\n",
              "\n",
              "<style>\n",
              "  .colab-df-quickchart {\n",
              "      --bg-color: #E8F0FE;\n",
              "      --fill-color: #1967D2;\n",
              "      --hover-bg-color: #E2EBFA;\n",
              "      --hover-fill-color: #174EA6;\n",
              "      --disabled-fill-color: #AAA;\n",
              "      --disabled-bg-color: #DDD;\n",
              "  }\n",
              "\n",
              "  [theme=dark] .colab-df-quickchart {\n",
              "      --bg-color: #3B4455;\n",
              "      --fill-color: #D2E3FC;\n",
              "      --hover-bg-color: #434B5C;\n",
              "      --hover-fill-color: #FFFFFF;\n",
              "      --disabled-bg-color: #3B4455;\n",
              "      --disabled-fill-color: #666;\n",
              "  }\n",
              "\n",
              "  .colab-df-quickchart {\n",
              "    background-color: var(--bg-color);\n",
              "    border: none;\n",
              "    border-radius: 50%;\n",
              "    cursor: pointer;\n",
              "    display: none;\n",
              "    fill: var(--fill-color);\n",
              "    height: 32px;\n",
              "    padding: 0;\n",
              "    width: 32px;\n",
              "  }\n",
              "\n",
              "  .colab-df-quickchart:hover {\n",
              "    background-color: var(--hover-bg-color);\n",
              "    box-shadow: 0 1px 2px rgba(60, 64, 67, 0.3), 0 1px 3px 1px rgba(60, 64, 67, 0.15);\n",
              "    fill: var(--button-hover-fill-color);\n",
              "  }\n",
              "\n",
              "  .colab-df-quickchart-complete:disabled,\n",
              "  .colab-df-quickchart-complete:disabled:hover {\n",
              "    background-color: var(--disabled-bg-color);\n",
              "    fill: var(--disabled-fill-color);\n",
              "    box-shadow: none;\n",
              "  }\n",
              "\n",
              "  .colab-df-spinner {\n",
              "    border: 2px solid var(--fill-color);\n",
              "    border-color: transparent;\n",
              "    border-bottom-color: var(--fill-color);\n",
              "    animation:\n",
              "      spin 1s steps(1) infinite;\n",
              "  }\n",
              "\n",
              "  @keyframes spin {\n",
              "    0% {\n",
              "      border-color: transparent;\n",
              "      border-bottom-color: var(--fill-color);\n",
              "      border-left-color: var(--fill-color);\n",
              "    }\n",
              "    20% {\n",
              "      border-color: transparent;\n",
              "      border-left-color: var(--fill-color);\n",
              "      border-top-color: var(--fill-color);\n",
              "    }\n",
              "    30% {\n",
              "      border-color: transparent;\n",
              "      border-left-color: var(--fill-color);\n",
              "      border-top-color: var(--fill-color);\n",
              "      border-right-color: var(--fill-color);\n",
              "    }\n",
              "    40% {\n",
              "      border-color: transparent;\n",
              "      border-right-color: var(--fill-color);\n",
              "      border-top-color: var(--fill-color);\n",
              "    }\n",
              "    60% {\n",
              "      border-color: transparent;\n",
              "      border-right-color: var(--fill-color);\n",
              "    }\n",
              "    80% {\n",
              "      border-color: transparent;\n",
              "      border-right-color: var(--fill-color);\n",
              "      border-bottom-color: var(--fill-color);\n",
              "    }\n",
              "    90% {\n",
              "      border-color: transparent;\n",
              "      border-bottom-color: var(--fill-color);\n",
              "    }\n",
              "  }\n",
              "</style>\n",
              "\n",
              "      <script>\n",
              "        async function quickchart(key) {\n",
              "          const quickchartButtonEl =\n",
              "            document.querySelector('#' + key + ' button');\n",
              "          quickchartButtonEl.disabled = true;  // To prevent multiple clicks.\n",
              "          quickchartButtonEl.classList.add('colab-df-spinner');\n",
              "          try {\n",
              "            const charts = await google.colab.kernel.invokeFunction(\n",
              "                'suggestCharts', [key], {});\n",
              "          } catch (error) {\n",
              "            console.error('Error during call to suggestCharts:', error);\n",
              "          }\n",
              "          quickchartButtonEl.classList.remove('colab-df-spinner');\n",
              "          quickchartButtonEl.classList.add('colab-df-quickchart-complete');\n",
              "        }\n",
              "        (() => {\n",
              "          let quickchartButtonEl =\n",
              "            document.querySelector('#df-c067252f-8288-48f2-aefd-9593a19f3d20 button');\n",
              "          quickchartButtonEl.style.display =\n",
              "            google.colab.kernel.accessAllowed ? 'block' : 'none';\n",
              "        })();\n",
              "      </script>\n",
              "    </div>\n",
              "\n",
              "    </div>\n",
              "  </div>\n"
            ],
            "application/vnd.google.colaboratory.intrinsic+json": {
              "type": "dataframe",
              "variable_name": "data"
            }
          },
          "metadata": {},
          "execution_count": 3
        }
      ]
    },
    {
      "cell_type": "markdown",
      "source": [
        "The output variable takes values between -12.38 and 11.68, with 50% of values being between -2.31 and 2.43.\n",
        "\n",
        "The class variable is divided relatively equally between the two classes."
      ],
      "metadata": {
        "id": "Paz9sp47gs99"
      }
    },
    {
      "cell_type": "markdown",
      "source": [
        "### Performing logistic regression"
      ],
      "metadata": {
        "id": "pBMzA8rySG8A"
      }
    },
    {
      "cell_type": "code",
      "source": [
        "X = data.iloc[:, 2:]\n",
        "y = data['Class']\n",
        "\n",
        "# Divide data into train and test subsets\n",
        "X_train, X_test, y_train, y_test = train_test_split(X, y, test_size=0.3, random_state=42)\n",
        "\n",
        "# Train model\n",
        "lr = LogisticRegression().fit(X_train, y_train)\n",
        "\n",
        "# Evaluate model on train data\n",
        "y_train_pred = lr.predict(X_train)\n",
        "cm = confusion_matrix(y_train, y_train_pred)\n",
        "\n",
        "baseline_scores_clas = {'train': accuracy_score(y_train, y_train_pred)}\n",
        "print(f'Accuracy score for train data: {baseline_scores_clas[\"train\"]:.4f}')\n",
        "print(f'Confusion matrix: \\n{cm}')\n",
        "\n",
        "# Evaluate model on test data\n",
        "y_test_pred = lr.predict(X_test)\n",
        "cm = confusion_matrix(y_test, y_test_pred)\n",
        "\n",
        "baseline_scores_clas['test'] = accuracy_score(y_test, y_test_pred)\n",
        "print(f'Accuracy score for test data: {baseline_scores_clas[\"test\"]:.4f}')\n",
        "print(f'Confusion matrix: \\n{cm}')"
      ],
      "metadata": {
        "colab": {
          "base_uri": "https://localhost:8080/"
        },
        "id": "Ge__tmEPSKat",
        "outputId": "de4e4005-e64f-464b-97be-e0efca90d8c6"
      },
      "execution_count": null,
      "outputs": [
        {
          "output_type": "stream",
          "name": "stdout",
          "text": [
            "Accuracy score for train data: 0.7429\n",
            "Confusion matrix: \n",
            "[[497 183]\n",
            " [177 543]]\n",
            "Accuracy score for test data: 0.5183\n",
            "Confusion matrix: \n",
            "[[144 163]\n",
            " [126 167]]\n"
          ]
        }
      ]
    },
    {
      "cell_type": "markdown",
      "source": [
        "I have divided data into train and test subsets to estimate model's performance on new data.\n",
        "\n",
        "For train data, accuracy score is not bad, given that both classes are fairly balanced.\n",
        "\n",
        "Accuracy on test data is close to what could be achieved choosing randomly or always assigning the same class. Confusion matrix shows sensitivity is very low, with a bit better specifity, meaning model could be picking class 1 too often.\n",
        "\n",
        "Results on test data prove that the model is unsatisfactory."
      ],
      "metadata": {
        "id": "Bi-qN8DSVVho"
      }
    },
    {
      "cell_type": "markdown",
      "source": [
        "### Performing linear regression"
      ],
      "metadata": {
        "id": "MZCqwhm_rPb1"
      }
    },
    {
      "cell_type": "code",
      "source": [
        "X = data.iloc[:, 2:]\n",
        "X = sm.add_constant(X)\n",
        "y = data['Output']\n",
        "\n",
        "# Divide data into train and test subsets\n",
        "X_train, X_test, y_train, y_test = train_test_split(X, y, test_size=0.3, random_state=42)\n",
        "\n",
        "# Train model\n",
        "ols = sm.OLS(y_train, X_train).fit()\n",
        "\n",
        "# Evaluate model on train data\n",
        "baseline_scores_reg = {'train': ols.rsquared}\n",
        "print(f'R2 score for train data: {baseline_scores_reg[\"train\"]:.4f}')\n",
        "print(f'Root mean squared error for train data: {math.sqrt(ols.mse_total):.4f}')\n",
        "\n",
        "# Evaluate model on test data\n",
        "y_pred = ols.predict(X_test)\n",
        "baseline_scores_reg['test'] = r2_score(y_test, y_pred)\n",
        "print(f'R2 score for test data: {baseline_scores_reg[\"test\"]:.4f}')\n",
        "print(f'Root mean squared error for test data: {root_mean_squared_error(y_test, y_pred):.4f}')"
      ],
      "metadata": {
        "colab": {
          "base_uri": "https://localhost:8080/"
        },
        "id": "i1p0On7lrXhh",
        "outputId": "07deccb1-768a-4e58-aeb8-d9349e1dded1"
      },
      "execution_count": null,
      "outputs": [
        {
          "output_type": "stream",
          "name": "stdout",
          "text": [
            "R2 score for train data: 0.6379\n",
            "Root mean squared error for train data: 3.5956\n",
            "R2 score for test data: 0.3616\n",
            "Root mean squared error for test data: 2.7777\n"
          ]
        }
      ]
    },
    {
      "cell_type": "markdown",
      "source": [
        "On train data, the $R^2$ score is above 0.5, showing moderately accurate model. The RMSE of nearly 3.6 is higher than standard deviation of output values, which is alarming.\n",
        "\n",
        "On test data, the $R^2$ score is much lower, meaning the model is likely overfitting. The RMSE is around 2.78, which is not far from train data.\n",
        "\n",
        "Results on test data show the model needs adjusting."
      ],
      "metadata": {
        "id": "Mgc-JUZZwvru"
      }
    },
    {
      "cell_type": "markdown",
      "source": [
        "## 2. Support Vector Classification"
      ],
      "metadata": {
        "id": "goNRCgNwb_X4"
      }
    },
    {
      "cell_type": "code",
      "source": [
        "# Import libraries\n",
        "from sklearn import svm\n",
        "from sklearn.model_selection import GridSearchCV\n",
        "from sklearn.feature_selection import SelectKBest, f_classif, SelectFromModel\n",
        "from sklearn.pipeline import Pipeline\n",
        "import matplotlib.pyplot as plt\n",
        "import numpy as np\n",
        "from sklearn.ensemble import RandomForestClassifier"
      ],
      "metadata": {
        "id": "UcpKLuG2w18a"
      },
      "execution_count": null,
      "outputs": []
    },
    {
      "cell_type": "markdown",
      "source": [
        "### Using SelectKBest for feature selection"
      ],
      "metadata": {
        "id": "I-3efAhd8wCC"
      }
    },
    {
      "cell_type": "markdown",
      "source": [
        "I will be trying to optimize an SVM model with rgb kernel, since the correlation between variables might not be linear. For tuning parameters, I will use GridSearch with 5-fold cross-validation."
      ],
      "metadata": {
        "id": "XcA-Hq5ZJmy3"
      }
    },
    {
      "cell_type": "code",
      "source": [
        "X = data.iloc[:, 2:]\n",
        "y = data['Class']\n",
        "\n",
        "# Divide data into train and test subsets\n",
        "X_train, X_test, y_train, y_test = train_test_split(X, y, test_size=0.3, random_state=42)\n",
        "\n",
        "# Use SelectKBest for feature selection\n",
        "pipeline = Pipeline([\n",
        "    ('feature_selection', SelectKBest(score_func=f_classif)),\n",
        "    ('svm', svm.SVC(kernel='rbf'))\n",
        "])\n",
        "\n",
        "# Search for the parameters for both feature selection and SVM\n",
        "param_grid = {\n",
        "    'feature_selection__k': [10, 50, 100, 150],\n",
        "    'svm__C': [0.1, 1, 10],\n",
        "    'svm__gamma': [0.01, 1, 10]\n",
        "}\n",
        "\n",
        "svm_cv = GridSearchCV(pipeline, param_grid, cv=5)\n",
        "svm_cv.fit(X_train, y_train)\n",
        "\n",
        "print(f'Best parameters: {svm_cv.best_params_}')\n",
        "print(f'Mean cross-validated score: {svm_cv.best_score_:.4f}')"
      ],
      "metadata": {
        "id": "iW4iQC-qidb4",
        "colab": {
          "base_uri": "https://localhost:8080/"
        },
        "outputId": "1ef305e1-f811-420a-caed-ff0cabb4c5ec"
      },
      "execution_count": null,
      "outputs": [
        {
          "output_type": "stream",
          "name": "stdout",
          "text": [
            "Best parameters: {'feature_selection__k': 10, 'svm__C': 1, 'svm__gamma': 1}\n",
            "Mean cross-validated score: 0.7571\n"
          ]
        }
      ]
    },
    {
      "cell_type": "markdown",
      "source": [
        "Based on chosen best parameters, I will adjust grid parameters to inspect values more precisely on a smaller range."
      ],
      "metadata": {
        "id": "4iUZA7LPWmXi"
      }
    },
    {
      "cell_type": "code",
      "source": [
        "# Adjust the parameters\n",
        "param_grid = {\n",
        "    'feature_selection__k': [5, 10, 15, 20, 25],\n",
        "    'svm__C': [0.5, 1, 3, 5, 7],\n",
        "    'svm__gamma': [0.1, 0.5, 0.75, 1, 1.5]\n",
        "}\n",
        "\n",
        "svm_cv = GridSearchCV(pipeline, param_grid, cv=5)\n",
        "svm_cv.fit(X_train, y_train)\n",
        "\n",
        "print(f'Best parameters: {svm_cv.best_params_}')\n",
        "print(f'Mean cross-validated score: {svm_cv.best_score_:.4f}')"
      ],
      "metadata": {
        "id": "Yt1uzLynvVGs",
        "colab": {
          "base_uri": "https://localhost:8080/"
        },
        "outputId": "75aaed74-c61d-4244-b6ce-388e6a2843da"
      },
      "execution_count": null,
      "outputs": [
        {
          "output_type": "stream",
          "name": "stdout",
          "text": [
            "Best parameters: {'feature_selection__k': 10, 'svm__C': 1, 'svm__gamma': 0.5}\n",
            "Mean cross-validated score: 0.7664\n"
          ]
        }
      ]
    },
    {
      "cell_type": "code",
      "source": [
        "# Further adjust the parameters\n",
        "param_grid = {\n",
        "    'feature_selection__k': [6, 7, 8, 9, 10, 11, 12, 13],\n",
        "    'svm__C': [0.5, 0.8, 1, 3, 5],\n",
        "    'svm__gamma': [0.1, 0.2, 0.3, 0.4, 0.5, 0.6, 0.7, 0.8, 0.9, 1]\n",
        "}\n",
        "\n",
        "svm_cv = GridSearchCV(pipeline, param_grid, cv=5)\n",
        "svm_cv.fit(X_train, y_train)\n",
        "\n",
        "print(f'Best parameters: {svm_cv.best_params_}')\n",
        "print(f'Mean cross-validated score: {svm_cv.best_score_:.4f}')"
      ],
      "metadata": {
        "colab": {
          "base_uri": "https://localhost:8080/"
        },
        "id": "-UdD0rIWX-t4",
        "outputId": "896f016c-cc6d-4a47-e71b-89f64de97507"
      },
      "execution_count": null,
      "outputs": [
        {
          "output_type": "stream",
          "name": "stdout",
          "text": [
            "Best parameters: {'feature_selection__k': 7, 'svm__C': 5, 'svm__gamma': 0.6}\n",
            "Mean cross-validated score: 0.7807\n"
          ]
        }
      ]
    },
    {
      "cell_type": "code",
      "source": [
        "svm_scores = {'train': svm_cv.score(X_train, y_train), 'test': svm_cv.score(X_test, y_test)}\n",
        "\n",
        "print(f'Train score: {svm_scores[\"train\"]:.4f}')\n",
        "print(f'Confusion matrix: \\n{confusion_matrix(y_train, svm_cv.predict(X_train))}')\n",
        "print(f'Test score: {svm_scores[\"test\"]:.4f}')\n",
        "print(f'Confusion matrix: \\n{confusion_matrix(y_test, svm_cv.predict(X_test))}')"
      ],
      "metadata": {
        "colab": {
          "base_uri": "https://localhost:8080/"
        },
        "id": "xHlrCY7_ZmQW",
        "outputId": "322534b7-b18f-4762-9a92-4794a50c21bd"
      },
      "execution_count": null,
      "outputs": [
        {
          "output_type": "stream",
          "name": "stdout",
          "text": [
            "Train score: 0.9064\n",
            "Confusion matrix: \n",
            "[[610  70]\n",
            " [ 61 659]]\n",
            "Test score: 0.7917\n",
            "Confusion matrix: \n",
            "[[231  76]\n",
            " [ 49 244]]\n"
          ]
        }
      ]
    },
    {
      "cell_type": "markdown",
      "source": [
        "The model is significantly better than baseline one, with good performace on test data. The huge difference between accuracy on full train data and test data might mean the model is overfitting. I will test using different method for feature selection."
      ],
      "metadata": {
        "id": "8KFi24GobUts"
      }
    },
    {
      "cell_type": "markdown",
      "source": [
        "### Using RandomForestClassifier for feature selection"
      ],
      "metadata": {
        "id": "vB39N4QguVeC"
      }
    },
    {
      "cell_type": "code",
      "source": [
        "# Use RandomForestClassifier and SelectFromModel for feature selection\n",
        "pipeline_rfc = Pipeline([\n",
        "    ('feature_selection', SelectFromModel(RandomForestClassifier(n_estimators=100, random_state=42))),\n",
        "    ('svm', svm.SVC(kernel='rbf'))\n",
        "])\n",
        "\n",
        "# Search for the parameters for both feature selection and SVM\n",
        "param_grid = {\n",
        "    'feature_selection__max_features': [5, 10, 15, 20],\n",
        "    'svm__C': [0.1, 1, 5],\n",
        "    'svm__gamma': [0.01, 0.1, 1]\n",
        "}\n",
        "\n",
        "svm_cv_rfc = GridSearchCV(pipeline_rfc, param_grid, cv=5)\n",
        "svm_cv_rfc.fit(X_train, y_train)\n",
        "\n",
        "print(f'Best parameters: {svm_cv_rfc.best_params_}')\n",
        "print(f'Mean cross-validated score: {svm_cv_rfc.best_score_:.4f}')"
      ],
      "metadata": {
        "colab": {
          "base_uri": "https://localhost:8080/"
        },
        "id": "TlMwBbBnh9dA",
        "outputId": "d2400836-2fb4-4480-9a35-be12803717c5"
      },
      "execution_count": null,
      "outputs": [
        {
          "output_type": "stream",
          "name": "stdout",
          "text": [
            "Best parameters: {'feature_selection__max_features': 10, 'svm__C': 1, 'svm__gamma': 1}\n",
            "Mean cross-validated score: 0.8114\n"
          ]
        }
      ]
    },
    {
      "cell_type": "code",
      "source": [
        "# Adjust the parameters\n",
        "param_grid = {\n",
        "    'feature_selection__max_features': [8, 10, 12, 14],\n",
        "    'svm__C': [0.5, 1, 1.5, 3],\n",
        "    'svm__gamma': [0.1, 0.5, 1, 1.5]\n",
        "}\n",
        "\n",
        "svm_cv_rfc = GridSearchCV(pipeline_rfc, param_grid, cv=5)\n",
        "svm_cv_rfc.fit(X_train, y_train)\n",
        "\n",
        "print(f'Best parameters: {svm_cv_rfc.best_params_}')\n",
        "print(f'Mean cross-validated score: {svm_cv_rfc.best_score_:.4f}')"
      ],
      "metadata": {
        "colab": {
          "base_uri": "https://localhost:8080/"
        },
        "id": "rk7kt4l1lvZ0",
        "outputId": "680fc249-9f34-4fae-e7c5-8786ac12990b"
      },
      "execution_count": null,
      "outputs": [
        {
          "output_type": "stream",
          "name": "stdout",
          "text": [
            "Best parameters: {'feature_selection__max_features': 8, 'svm__C': 3, 'svm__gamma': 1}\n",
            "Mean cross-validated score: 0.8257\n"
          ]
        }
      ]
    },
    {
      "cell_type": "code",
      "source": [
        "svm_scores_rfc = {'train': svm_cv_rfc.score(X_train, y_train), 'test': svm_cv_rfc.score(X_test, y_test)}\n",
        "\n",
        "print(f'Train score: {svm_scores_rfc[\"train\"]:.4f}')\n",
        "print(f'Confusion matrix: \\n{confusion_matrix(y_train, svm_cv_rfc.predict(X_train))}')\n",
        "print(f'Test score: {svm_scores_rfc[\"test\"]:.4f}')\n",
        "print(f'Confusion matrix: \\n{confusion_matrix(y_test, svm_cv_rfc.predict(X_test))}')"
      ],
      "metadata": {
        "colab": {
          "base_uri": "https://localhost:8080/"
        },
        "id": "NOcBjqioldTI",
        "outputId": "47ba51b0-4224-47ed-b80f-0ffbb0993832"
      },
      "execution_count": null,
      "outputs": [
        {
          "output_type": "stream",
          "name": "stdout",
          "text": [
            "Train score: 0.9529\n",
            "Confusion matrix: \n",
            "[[647  33]\n",
            " [ 33 687]]\n",
            "Test score: 0.8033\n",
            "Confusion matrix: \n",
            "[[239  68]\n",
            " [ 50 243]]\n"
          ]
        }
      ]
    },
    {
      "cell_type": "code",
      "source": [
        "# Convert scores into dataframe\n",
        "scores = pd.DataFrame({\n",
        "    'baseline': baseline_scores_clas,\n",
        "    'SVM using SelectKBest': svm_scores,\n",
        "    'SVM using RandomForestClassifier': svm_scores_rfc\n",
        "})\n",
        "\n",
        "# Plot all scores for classification models\n",
        "plt.figure(figsize=(12, 12))\n",
        "ax = scores.plot(kind='bar', colormap='Accent')\n",
        "plt.xticks(rotation=0)\n",
        "plt.title('Classification scores for different models')\n",
        "plt.ylabel('Accuracy score')\n",
        "plt.tight_layout()\n",
        "plt.show()"
      ],
      "metadata": {
        "colab": {
          "base_uri": "https://localhost:8080/",
          "height": 505
        },
        "id": "X2Auzv5PFy8o",
        "outputId": "f3eb9d6d-9b3b-4467-e621-efb59c874565"
      },
      "execution_count": null,
      "outputs": [
        {
          "output_type": "display_data",
          "data": {
            "text/plain": [
              "<Figure size 1200x1200 with 0 Axes>"
            ]
          },
          "metadata": {}
        },
        {
          "output_type": "display_data",
          "data": {
            "text/plain": [
              "<Figure size 640x480 with 1 Axes>"
            ],
            "image/png": "[encoded data removed]"
          },
          "metadata": {}
        }
      ]
    },
    {
      "cell_type": "markdown",
      "source": [
        "The model using RFC for feature selection performs better than one using SelectKBest. Both mean cross-validated accuracy score and accuracy on train and test data have slightly improved."
      ],
      "metadata": {
        "id": "zfIluafQslwQ"
      }
    },
    {
      "cell_type": "markdown",
      "source": [
        "### Inspecting feature selection"
      ],
      "metadata": {
        "id": "W0s3Ie_H-LrH"
      }
    },
    {
      "cell_type": "code",
      "source": [
        "# Get features and their importances from RFC-based selection\n",
        "features = svm_cv_rfc.best_estimator_.named_steps['feature_selection']\n",
        "\n",
        "importance_features = pd.DataFrame({\n",
        "    'features': X_train.columns[features.get_support()],\n",
        "    'importance': features.estimator_.feature_importances_[features.get_support()]\n",
        "})\n",
        "importance_features.sort_values(by='importance', ascending=True, inplace=True)\n",
        "\n",
        "plt.figure(figsize=(18,10))\n",
        "plt.title('Chosen features\\' importances')\n",
        "plt.barh('features', 'importance', data=importance_features)\n",
        "plt.show()\n",
        "\n",
        "# Get features from SelectKBest selector\n",
        "selector = SelectKBest(score_func=f_classif, k=7).fit(X_train, y_train)\n",
        "selected_features = X_train.columns[selector.get_support()]\n",
        "\n",
        "print(f'RFC chosen features: {importance_features[\"features\"].tolist()}')\n",
        "print(f'SelectKBest chosen features: {selected_features.tolist()}')"
      ],
      "metadata": {
        "colab": {
          "base_uri": "https://localhost:8080/",
          "height": 889
        },
        "id": "nsN0s-pg-C1K",
        "outputId": "0b56e2b6-be61-4fb3-fa48-6ce3e226ca67"
      },
      "execution_count": null,
      "outputs": [
        {
          "output_type": "display_data",
          "data": {
            "text/plain": [
              "<Figure size 1800x1000 with 1 Axes>"
            ],
            "image/png": "[encoded data removed]"
          },
          "metadata": {}
        },
        {
          "output_type": "stream",
          "name": "stdout",
          "text": [
            "RFC chosen features: ['Input396', 'Input40', 'Input41', 'Input293', 'Input330', 'Input256', 'Input2', 'Input240']\n",
            "SelectKBest chosen features: ['Input40', 'Input41', 'Input240', 'Input293', 'Input308', 'Input330', 'Input396']\n"
          ]
        }
      ]
    },
    {
      "cell_type": "markdown",
      "source": [
        "The final model uses 8 features out of 400. Chosen features are similar to ones chosen by SelectKBest, but the model using those chosen using RandomForestClassifier performs slightly better."
      ],
      "metadata": {
        "id": "G4YDsjWoiGLU"
      }
    },
    {
      "cell_type": "markdown",
      "source": [
        "## 3. Regression using Lasso"
      ],
      "metadata": {
        "id": "ANclslb4D_mv"
      }
    },
    {
      "cell_type": "code",
      "source": [
        "# Import libraries\n",
        "from sklearn.linear_model import Lasso"
      ],
      "metadata": {
        "id": "nIH9dRQIk4JC"
      },
      "execution_count": null,
      "outputs": []
    },
    {
      "cell_type": "markdown",
      "source": [
        "### Creating model with cross-validation for alpha optimization"
      ],
      "metadata": {
        "id": "OAfAJWcNX1zg"
      }
    },
    {
      "cell_type": "code",
      "source": [
        "X = data.iloc[:, 2:]\n",
        "y = data['Output']\n",
        "\n",
        "# Divide data into train and test subsets\n",
        "X_train, X_test, y_train, y_test = train_test_split(X, y, test_size=0.3, random_state=42)\n",
        "\n",
        "# Test alpha options\n",
        "param_grid = {\n",
        "    'alpha': np.logspace(-3, 1, 20)\n",
        "}\n",
        "\n",
        "lasso = Lasso(max_iter=50000)\n",
        "lasso_grid = GridSearchCV(lasso, param_grid, scoring='r2', cv=5)\n",
        "lasso_grid.fit(X_train, y_train)\n",
        "\n",
        "print(f'Best alpha: {lasso_grid.best_params_[\"alpha\"]:.4f}')\n",
        "print(f'R2 mean cross-validate score: {lasso_grid.best_score_:.4f}')\n",
        "print(f'R2 train score: {lasso_grid.score(X_train, y_train):.4f}')\n",
        "print(f'RMSE train score: {root_mean_squared_error(y_train, lasso_grid.predict(X_train)):.4f}')\n",
        "print(f'R2 test score: {lasso_grid.score(X_test, y_test):.4f}')\n",
        "print(f'RMSE test score: {root_mean_squared_error(y_test, lasso_grid.predict(X_test)):.4f}')\n",
        "\n",
        "# Plot the R2 value agains alphas\n",
        "plt.plot(param_grid['alpha'], lasso_grid.cv_results_['mean_test_score'])\n",
        "plt.xscale('log')\n",
        "plt.title('R2 values for different alphas')\n",
        "plt.xlabel('alpha')\n",
        "plt.ylabel('R2')\n",
        "plt.show()"
      ],
      "metadata": {
        "colab": {
          "base_uri": "https://localhost:8080/",
          "height": 584
        },
        "id": "5VRlow0UZg3s",
        "outputId": "d904caf3-c912-47c2-9b52-a83598c7070f"
      },
      "execution_count": null,
      "outputs": [
        {
          "output_type": "stream",
          "name": "stdout",
          "text": [
            "Best alpha: 0.1274\n",
            "R2 mean cross-validate score: 0.4678\n",
            "R2 train score: 0.5040\n",
            "RMSE train score: 2.5314\n",
            "R2 test score: 0.5086\n",
            "RMSE test score: 2.4371\n"
          ]
        },
        {
          "output_type": "display_data",
          "data": {
            "text/plain": [
              "<Figure size 640x480 with 1 Axes>"
            ],
            "image/png": "[encoded data removed]"
          },
          "metadata": {}
        }
      ]
    },
    {
      "cell_type": "markdown",
      "source": [
        "The plot shows that the optimal alpha value should be between $10^{-2}$ and $10^0$. I will inspect this range more closely in next iteration."
      ],
      "metadata": {
        "id": "qgGtCV05mRGT"
      }
    },
    {
      "cell_type": "code",
      "source": [
        "# Adjust alpha options\n",
        "param_grid = {\n",
        "    'alpha': np.logspace(-1.5, 0, 100)\n",
        "}\n",
        "\n",
        "# Use cross-validation for choosing the best option\n",
        "lasso = Lasso(max_iter=50000)\n",
        "lasso_grid = GridSearchCV(lasso, param_grid, scoring='r2', cv=5)\n",
        "lasso_grid.fit(X_train, y_train)\n",
        "\n",
        "print(f'Best alpha: {lasso_grid.best_params_[\"alpha\"]:.4f}')\n",
        "print(f'R2 mean cross-validated score: {lasso_grid.best_score_:.4f}')\n",
        "\n",
        "lasso_scores = {'train': lasso_grid.score(X_train, y_train), 'test': lasso_grid.score(X_test, y_test)}\n",
        "print(f'R2 train score: {lasso_scores[\"train\"]:.4f}')\n",
        "print(f'RMSE train score: {root_mean_squared_error(y_train, lasso_grid.predict(X_train)):.4f}')\n",
        "print(f'R2 test score: {lasso_scores[\"test\"]:.4f}')\n",
        "print(f'RMSE test score: {root_mean_squared_error(y_test, lasso_grid.predict(X_test)):.4f}')"
      ],
      "metadata": {
        "colab": {
          "base_uri": "https://localhost:8080/"
        },
        "id": "s5qIvFljdEl5",
        "outputId": "2154e2b1-7e8a-4eef-822a-a67e2b2f60de"
      },
      "execution_count": null,
      "outputs": [
        {
          "output_type": "stream",
          "name": "stdout",
          "text": [
            "Best alpha: 0.0966\n",
            "R2 mean cross-validated score: 0.4707\n",
            "R2 train score: 0.5311\n",
            "RMSE train score: 2.4613\n",
            "R2 test score: 0.5087\n",
            "RMSE test score: 2.4369\n"
          ]
        }
      ]
    },
    {
      "cell_type": "code",
      "source": [
        "# Convert scores into dataframe\n",
        "scores = pd.DataFrame({\n",
        "    'baseline': baseline_scores_reg,\n",
        "    'lasso': lasso_scores\n",
        "})\n",
        "\n",
        "# Plot all scores for regression models\n",
        "plt.figure(figsize=(12, 12))\n",
        "ax = scores.plot(kind='bar', colormap='Accent')\n",
        "plt.xticks(rotation=0)\n",
        "plt.title('R2 values for different models')\n",
        "plt.ylabel('R2 value')\n",
        "plt.tight_layout()\n",
        "plt.show()"
      ],
      "metadata": {
        "colab": {
          "base_uri": "https://localhost:8080/",
          "height": 505
        },
        "id": "eY0QbT0XMq36",
        "outputId": "6633b197-5d2c-4f07-96a1-88cc56f02c15"
      },
      "execution_count": null,
      "outputs": [
        {
          "output_type": "display_data",
          "data": {
            "text/plain": [
              "<Figure size 1200x1200 with 0 Axes>"
            ]
          },
          "metadata": {}
        },
        {
          "output_type": "display_data",
          "data": {
            "text/plain": [
              "<Figure size 640x480 with 1 Axes>"
            ],
            "image/png": "[encoded data removed]"
          },
          "metadata": {}
        }
      ]
    },
    {
      "cell_type": "markdown",
      "source": [
        "The results for lasso model on data not seen in training are visibly better than for baseline model. The $R^2$ values are similar for train and test data, which is a good sign suggesting the model isn't overfitting. There is also slight improvement in RMSE value for lasso model."
      ],
      "metadata": {
        "id": "-9gzXG_CK4L-"
      }
    },
    {
      "cell_type": "markdown",
      "source": [
        "### Inspecting feature selection"
      ],
      "metadata": {
        "id": "jG0XtQ4VOqxj"
      }
    },
    {
      "cell_type": "code",
      "source": [
        "# Train model with optimal alpha\n",
        "lasso = Lasso(alpha=0.0966, max_iter=50000)\n",
        "lasso.fit(X_train, y_train)\n",
        "\n",
        "# Get features with non-zero importance\n",
        "importance_features = pd.DataFrame({\n",
        "    'features': X.columns[lasso.coef_ != 0],\n",
        "    'importance': np.abs(lasso.coef_)[lasso.coef_ != 0]\n",
        "})\n",
        "print(f'Number of used features: {len(importance_features)}')\n",
        "\n",
        "# Plot remaining features' importance\n",
        "importance_features.sort_values(by='importance', ascending=False, inplace=True)\n",
        "plt.figure(figsize=(18,10))\n",
        "plt.xticks(rotation=90)\n",
        "plt.title('Non-zero features importance')\n",
        "plt.bar('features', 'importance', data=importance_features)\n",
        "plt.show()"
      ],
      "metadata": {
        "colab": {
          "base_uri": "https://localhost:8080/",
          "height": 919
        },
        "id": "M0OyvHm1MB7v",
        "outputId": "7e43b88e-4551-4a0a-bad6-19b08371a42e"
      },
      "execution_count": null,
      "outputs": [
        {
          "output_type": "stream",
          "name": "stdout",
          "text": [
            "Number of used features: 67\n"
          ]
        },
        {
          "output_type": "display_data",
          "data": {
            "text/plain": [
              "<Figure size 1800x1000 with 1 Axes>"
            ],
            "image/png": "[encoded data removed]"
          },
          "metadata": {}
        }
      ]
    },
    {
      "cell_type": "markdown",
      "source": [
        "Lasso assigns coefficients 0 to non-significant input variables, so there is no need for seperate feature selection. The model has used 67 out of 400 features."
      ],
      "metadata": {
        "id": "bVfxQXJfQlNl"
      }
    },
    {
      "cell_type": "markdown",
      "source": [
        "## 4. Processing validation data"
      ],
      "metadata": {
        "id": "hs4q3bSr_thy"
      }
    },
    {
      "cell_type": "markdown",
      "source": [
        "Please note it is only necessary to run loading the data and all importing Python libraries sections for the following function to work."
      ],
      "metadata": {
        "id": "6Wkjh9fCCjnn"
      }
    },
    {
      "cell_type": "code",
      "source": [
        "def compute_scores():\n",
        "    validation_data = pd.read_csv('validation_data.csv', sep=';', header=0)\n",
        "\n",
        "    X_train = data.iloc[:, 2:]\n",
        "    output_train = data['Output']\n",
        "    class_train = data['Class']\n",
        "\n",
        "    X_val = validation_data.iloc[:, 2:]\n",
        "    output_val = validation_data['Output']\n",
        "    class_val = validation_data['Class']\n",
        "\n",
        "    # Check performance on baseline models\n",
        "    lr = LogisticRegression().fit(X_train, class_train)\n",
        "    y_lr = lr.predict(X_val)\n",
        "    print(f'Accuracy score for baseline classification model: {accuracy_score(class_val, y_lr):.4f}')\n",
        "\n",
        "    ols = sm.OLS(output_train, X_train).fit()\n",
        "    y_ols = ols.predict(X_val)\n",
        "    print(f'R2 score for baseline regression model: {r2_score(output_val, y_ols):.4f}')\n",
        "\n",
        "    # Check performance on advanced classification model\n",
        "    y_train = data['Class']\n",
        "    pipeline = Pipeline([\n",
        "        ('feature_selection', SelectFromModel(RandomForestClassifier(n_estimators=100, random_state=42), max_features=8)),\n",
        "        ('svm', svm.SVC(C=3, gamma=1, kernel='rbf', random_state=42))\n",
        "    ])\n",
        "    pipeline.fit(X_train, class_train)\n",
        "    print(f'Accuracy score for advanced classification model: {pipeline.score(X_val, class_val):.4f}')\n",
        "\n",
        "    # Check performace on advanced regression model\n",
        "    y_train = data['Output']\n",
        "    lasso = Lasso(alpha=0.0966, max_iter=50000)\n",
        "    lasso.fit(X_train, output_train)\n",
        "    y_lasso = lasso.predict(X_val)\n",
        "    print(f'R2 score for advanced regression model: {r2_score(output_val, y_lasso):.4f}')"
      ],
      "metadata": {
        "id": "4JATVEfA_yM9"
      },
      "execution_count": null,
      "outputs": []
    }
  ]
}